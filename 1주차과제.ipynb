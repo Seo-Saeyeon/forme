{
  "nbformat": 4,
  "nbformat_minor": 0,
  "metadata": {
    "colab": {
      "name": "Untitled0.ipynb",
      "provenance": [],
      "collapsed_sections": [],
      "authorship_tag": "ABX9TyNWwIKlV7TN5gYV+GBSE9eu",
      "include_colab_link": true
    },
    "kernelspec": {
      "name": "python3",
      "display_name": "Python 3"
    }
  },
  "cells": [
    {
      "cell_type": "markdown",
      "metadata": {
        "id": "view-in-github",
        "colab_type": "text"
      },
      "source": [
        "<a href=\"https://colab.research.google.com/github/Seo-Saeyeon/forme/blob/master/1%EC%A3%BC%EC%B0%A8%EA%B3%BC%EC%A0%9C.ipynb\" target=\"_parent\"><img src=\"https://colab.research.google.com/assets/colab-badge.svg\" alt=\"Open In Colab\"/></a>"
      ]
    },
    {
      "cell_type": "markdown",
      "metadata": {
        "id": "lqhVzXB2Mo7P",
        "colab_type": "text"
      },
      "source": [
        "##**1. 언어**\n",
        "* 네이버 파파고\n",
        " * 우리나라의 첨단기술 개발사 네이버랩스(Naver Labs)에서 2016년 선보인 무료 통·번역 서비스\n",
        "\n",
        " * 네이버랩스가 자체 개발한 인공신경망 번역 기술 'N2MT(Naver Neural Machine Translation)'\n",
        "\n",
        " * 네이버의 방대한 한글 데이터를 학습(모델링)함으로써, 번역 품질이 향상.\n",
        "\n",
        "##**2. 음성**\n",
        "* 아마존 알렉사\n",
        " * 음성인식형 사용자환경을 통해 TV, 스피커 등 다양한 기기에서 서비스 이용 가능\n",
        "\n",
        " * 쇼핑, 사물인터넷 제어, 정보 검색 등 인공지능 비서의 핵심 기능을 모두 제공\n",
        "\n",
        " * 오픈 API '알렉사 보이스 서비스(AVS)'\n",
        "   기업의 제품에 알렉사를 탑재해 사용자가 인공지능 비서 서비스의 혜택 이용 가능\n",
        "   \n",
        " * API '알렉사 스킬즈 키트(ASK)\n",
        "   기업의 서비스에 알렉사를 연결해 알렉사에서 음성 명령을 통해 기업의 각종 서비스를 이용 가능\n",
        "\n",
        "##**3. 그림**\n",
        "* 넥스트 램브란트\n",
        " * AI가 화가 렘브란트의 화풍을 딥러닝 방식으로 습득해 재현한 프로젝트\n",
        "\n",
        " * 램브란트의 다양한 초상화들의 특징(색감, 붓의 흔적, 표현 기법 등)을 면밀히 분석해 그 결괏값을 데이터로 구축한 뒤 모작 알고리즘을 개발\n",
        "\n",
        " * 3D 스캐너를 이용해 물감이 만들어내는 요철까지 모두 데이터화하여 그림의 표면 질감까지 완벽한 재현이 가능\n",
        "\n",
        "##**4. 자율주행**\n",
        " * 자동운행(Autopilot)\n",
        "  * 교통 인식 크루즈 콘트롤(Traffic Aware Cruise Control)\n",
        "    지정된 최고속도로 운행하며 앞차와 간격이 가까워지면 속도를 줄이거나 정차. 앞차와 간격이 늘어나면 다시 최고속도까지 가속\n",
        "\n",
        "  * 오토스티어(Autosteer)\n",
        "    현재의 차선을 계속 유지하면서 운행\n",
        "\n",
        "  * 인접 차선 자동차 관찰 기능\n",
        "\n",
        " * 완전 자율 주행(FSD;Full Self Driving Capability)\n",
        "  * 자동 차선변경(Auto Lane Change)\n",
        "    센서 혹은 측면 카메라로 옆차선의 공간을 확인하여 차선 변경\n",
        "\n",
        "  * 오토파일럿 내비게이션(고속도로;Navigation on Autopilot on the highway,)\n",
        "    고속도로 진입로에서 나들목, 진출로까지 자율주행\n",
        "\n",
        "  * 오토파크(Autopark)\n",
        "    평행주차, 직렬주차\n",
        "    차량 호출(Summon; 서몬)\n",
        "    주자창에서 무인 단거리 직진 전진, 후진\n",
        "\n",
        "  * 스마트 호출(Smart Summon; 스마트 서몬, 스마트 차량 호출)\n",
        "    옥외 주차장에서 차주의 스마트폰 위치까지 무인 자율 저속 이동\n",
        " \n",
        "  * 오토파일럿 내비게이션 (시내주행)\n",
        "    교통 신호등 및 일단 멈춤 표지판 인지(Traffic Light and Stop Sign Recognition)\n",
        "    신호등, 정지선, 일단 멈춤 표지판,좌회전/우회전/기차건널목/마름모/자전거전용 도로 표면 표지 인식/시각화\n",
        "    교통 장애물(대형쓰레기통, 공사콘, 공사드럼통) 인식/시각화\n",
        "    장애인 주차 표식 인식/시각화\n",
        "\n",
        "  * 교통 신호, 일단 멈춤 표지 인식 자율 정차(Traffic Light and Stop Sign Control)\n",
        "    정지 신호와 일단 멈춤 표지를 인식하여 교차로에서 자율 정차\n",
        "    설정된 경로상 우회전해야 하는 교차로에서 자율 정차\n",
        "    건널목에서 자율 정차 \n",
        "\n",
        "\n",
        "\n"
      ]
    }
  ]
}